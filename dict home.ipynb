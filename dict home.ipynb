{
 "cells": [
  {
   "cell_type": "code",
   "execution_count": null,
   "metadata": {},
   "outputs": [],
   "source": [
    "Question 1: add a key to a dictionary, list={0: 10, 1: 20} key=2, value=30\n",
    "Question 2: check whether a given key already exists in a dictionary ,d = {1: 10, 2: 20, 3: 30, 4: 40, 5: 50, 6: 60} \n",
    "            key=8\n",
    "Question 3: Merge Two lists d1 = {'a': 100, 'b': 200}\n",
    "                            d2 = {'x': 300, 'y': 200}      \n",
    "Question 4: Write a Python program to iterate over dictionaries using for loops.\n",
    "            d = {'Red': 1, 'Green': 2, 'Blue': 3} \n",
    "Question 5: Write a Python program to sum all the items in a dictionary. \n",
    "            my_dict = {'data1':100,'data2':-54,'data3':247}"
   ]
  },
  {
   "cell_type": "code",
   "execution_count": 1,
   "metadata": {},
   "outputs": [
    {
     "name": "stdout",
     "output_type": "stream",
     "text": [
      "{'maharashtra': 'India'}\n"
     ]
    }
   ],
   "source": [
    "key=['maharashtra','gujarat','uttarakhand','kerela']\n",
    "value=['India']\n",
    "my_dict = dict(zip(key,value))\n",
    "print(my_dict)"
   ]
  },
  {
   "cell_type": "code",
   "execution_count": 9,
   "metadata": {},
   "outputs": [
    {
     "name": "stdout",
     "output_type": "stream",
     "text": [
      "{'maharashtra': 'India', 'gujarat': 'India', 'uttarakhand': 'India', 'kerela': 'India'}\n"
     ]
    }
   ],
   "source": [
    "key=['maharashtra','gujarat','uttarakhand','kerela']\n",
    "value='India'\n",
    "myDict=dict.fromkeys(key,value)\n",
    "print(myDict)"
   ]
  },
  {
   "cell_type": "code",
   "execution_count": 6,
   "metadata": {},
   "outputs": [
    {
     "name": "stdout",
     "output_type": "stream",
     "text": [
      "{'Kerala': 'India', 'Delhi': 'India', 'Uttarakhand': 'India'}\n"
     ]
    }
   ],
   "source": [
    "keys=[\"Kerala\", \"Delhi\" , \"Uttarakhand\"]\n",
    "values=\"India\"\n",
    "myDict=dict.fromkeys(keys, values)\n",
    "print(myDict)"
   ]
  },
  {
   "cell_type": "code",
   "execution_count": 10,
   "metadata": {},
   "outputs": [
    {
     "name": "stdout",
     "output_type": "stream",
     "text": [
      "{'one': 1.0, 'two': 'to', 'three': 3.0, 'four': [4, 4.0]}\n"
     ]
    }
   ],
   "source": [
    "a = {'one': 1, 'two': 'to', 'three': 3.0, 'four': [4,4.0]}\n",
    "a['one']=1.0\n",
    "print(a)"
   ]
  },
  {
   "cell_type": "code",
   "execution_count": 11,
   "metadata": {},
   "outputs": [
    {
     "name": "stdout",
     "output_type": "stream",
     "text": [
      "{'two': 'to', 'three': 3.0, 'four': [4, 4.0]}\n"
     ]
    }
   ],
   "source": [
    "del a['one']\n",
    "print(a)"
   ]
  },
  {
   "cell_type": "code",
   "execution_count": 12,
   "metadata": {},
   "outputs": [
    {
     "name": "stdout",
     "output_type": "stream",
     "text": [
      "{}\n"
     ]
    }
   ],
   "source": [
    "a.clear()\n",
    "print(a)"
   ]
  },
  {
   "cell_type": "code",
   "execution_count": null,
   "metadata": {},
   "outputs": [],
   "source": [
    "check whether a given key already exists in a dictionary ,d = {1: 10, 2: 20, 3: 30, 4: 40, 5: 50, 6: 60} \n",
    "            key=8"
   ]
  },
  {
   "cell_type": "code",
   "execution_count": 2,
   "metadata": {},
   "outputs": [
    {
     "name": "stdout",
     "output_type": "stream",
     "text": [
      "no\n"
     ]
    }
   ],
   "source": [
    "d = {1: 10, 2: 20, 3: 30, 4: 40, 5: 50, 6: 60}\n",
    "if 8 in d:\n",
    "    print('yes')\n",
    "else:\n",
    "    print('no')"
   ]
  },
  {
   "cell_type": "code",
   "execution_count": null,
   "metadata": {},
   "outputs": [],
   "source": [
    "a = {'one': 1, 'two': 'to', 'three': 3.0, 'four': [4,4.0]}\n",
    "a['five']=5\n",
    "print(a)"
   ]
  },
  {
   "cell_type": "code",
   "execution_count": 34,
   "metadata": {},
   "outputs": [
    {
     "name": "stdout",
     "output_type": "stream",
     "text": [
      "one\n",
      "two\n",
      "three\n",
      "four\n",
      "five\n",
      "six\n",
      "seven\n",
      "eight\n",
      "1.0\n",
      "to\n",
      "3.0\n",
      "[4, 4.0]\n",
      "5\n",
      "6\n",
      "7\n",
      "8\n",
      "key:one value:1.0\n",
      "key:two value:to\n",
      "key:three value:3.0\n",
      "key:four value:[4, 4.0]\n",
      "key:five value:5\n",
      "key:six value:6\n",
      "key:seven value:7\n",
      "key:eight value:8\n"
     ]
    }
   ],
   "source": [
    "myDict={'one': 1.0, 'two': 'to', 'three': 3.0, 'four': [4, 4.0], 'five': 5, 'six': 6, 'seven': 7, 'eight': 8}\n",
    "for key in myDict.keys():\n",
    "    print(key)\n",
    "\n",
    "for value in myDict.values():\n",
    "    print(value)\n",
    "    \n",
    "for key,value in myDict.items():\n",
    "    print('key:'+str(key), 'value:'+str(value))"
   ]
  },
  {
   "cell_type": "code",
   "execution_count": 8,
   "metadata": {},
   "outputs": [
    {
     "name": "stdout",
     "output_type": "stream",
     "text": [
      "{'milk': 11.0, 'coffee': 27.5, 'bread': 13.75}\n"
     ]
    }
   ],
   "source": [
    "tax  = 11.0\n",
    "price = {'milk':1.0,'coffee':2.5,'bread':1.25}\n",
    "\n",
    "final_price = {key: value*tax for (key,value) in price.items()}\n",
    "print(final_price)"
   ]
  },
  {
   "cell_type": "code",
   "execution_count": 9,
   "metadata": {},
   "outputs": [
    {
     "name": "stdout",
     "output_type": "stream",
     "text": [
      "{0: 10, 1: 20, 2: 30}\n"
     ]
    }
   ],
   "source": [
    "#Question 1: add a key to a dictionary, list={0: 10, 1: 20} key=2, value=30\n",
    "list = {0:10,1:20}\n",
    "list[2] = 30\n",
    "print(list)"
   ]
  },
  {
   "cell_type": "code",
   "execution_count": 10,
   "metadata": {},
   "outputs": [
    {
     "name": "stdout",
     "output_type": "stream",
     "text": [
      "key does not exist\n"
     ]
    }
   ],
   "source": [
    "#Question 2: check whether a given key already exists in a dictionary ,d = {1: 10, 2: 20, 3: 30, 4: 40, 5: 50, 6: 60} key=8\n",
    "d = {1:10,2:20,3:30,4:40,5:50,6:60}\n",
    "if 8 in d:\n",
    "    print('key already exists')\n",
    "else:\n",
    "    print('key does not exist')"
   ]
  },
  {
   "cell_type": "code",
   "execution_count": 18,
   "metadata": {},
   "outputs": [
    {
     "name": "stdout",
     "output_type": "stream",
     "text": [
      "{'a': 100, 'b': 200, 'x': 300, 'y': 200}\n"
     ]
    }
   ],
   "source": [
    "#Question 3: Merge Two lists d1 = {'a': 100, 'b': 200}\n",
    "#                           d2 = {'x': 300, 'y': 200}      \n",
    "d1 = {'a':100,'b':200}\n",
    "d2 = {'x':300,'y':200}\n",
    "d1.update(d2)\n",
    "    \n",
    "print(d1)"
   ]
  },
  {
   "cell_type": "code",
   "execution_count": 20,
   "metadata": {},
   "outputs": [
    {
     "name": "stdout",
     "output_type": "stream",
     "text": [
      "key:Red value:1\n",
      "key:Green value:2\n",
      "key:Blue value:3\n"
     ]
    }
   ],
   "source": [
    "#Question 4: Write a Python program to iterate over dictionaries using for loops.\n",
    "#            d = {'Red': 1, 'Green': 2, 'Blue': 3} \n",
    "d = {'Red':1,'Green':2,'Blue':3}\n",
    "for key,value in d.items():\n",
    "    print('key:' + str(key), 'value:' + str(value))\n",
    "    "
   ]
  },
  {
   "cell_type": "code",
   "execution_count": 27,
   "metadata": {},
   "outputs": [
    {
     "ename": "SyntaxError",
     "evalue": "cannot assign to operator (<ipython-input-27-ce113ed3904d>, line 6)",
     "output_type": "error",
     "traceback": [
      "\u001b[1;36m  File \u001b[1;32m\"<ipython-input-27-ce113ed3904d>\"\u001b[1;36m, line \u001b[1;32m6\u001b[0m\n\u001b[1;33m    total + key,value = total\u001b[0m\n\u001b[1;37m    ^\u001b[0m\n\u001b[1;31mSyntaxError\u001b[0m\u001b[1;31m:\u001b[0m cannot assign to operator\n"
     ]
    }
   ],
   "source": [
    "#Question 5: Write a Python program to sum all the items in a dictionary. \n",
    "#           my_dict = {'data1':100,'data2':-54,'data3':247}\n",
    "my_dict = {'data1':100,'data2':-54,'data3':247}\n",
    "total = 0\n",
    "for key,value in my_dict.items():\n",
    "    total + key,value = total\n",
    "\n",
    "print(my_dict)"
   ]
  },
  {
   "cell_type": "code",
   "execution_count": null,
   "metadata": {},
   "outputs": [],
   "source": []
  }
 ],
 "metadata": {
  "kernelspec": {
   "display_name": "Python 3",
   "language": "python",
   "name": "python3"
  },
  "language_info": {
   "codemirror_mode": {
    "name": "ipython",
    "version": 3
   },
   "file_extension": ".py",
   "mimetype": "text/x-python",
   "name": "python",
   "nbconvert_exporter": "python",
   "pygments_lexer": "ipython3",
   "version": "3.8.3"
  }
 },
 "nbformat": 4,
 "nbformat_minor": 4
}

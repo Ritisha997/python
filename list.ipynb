{
 "cells": [
  {
   "cell_type": "code",
   "execution_count": null,
   "metadata": {},
   "outputs": [],
   "source": [
    "#Q-1 Create a list with 5 integer values, 2 string values and a nested list inside it with 4 words.\n",
    "#Q-2 iterate over the list using for loop\n",
    "#Q-3 iterate with the for loop and change the value of the 2nd index([2])  to a string value\n",
    "#Q-4 Now change the nested list  using a for loop and replace it with an int\n",
    "#Q-5 Write a Python program to sum all the items in a list\n",
    "#Q-6 Write a Python program to multiplies all the items in a list\n",
    "#Q-7 Write a Python program to get the largest number from a list.     use the tricks, dont go with the hard way\n",
    "#Q-8Write a Python program to get the smallest number from a list.     use the tricks, dont go with the hard way\n",
    "\n",
    "#Q-9 create a list with hard coded 1, 0 values {total 10 values each} now iterate using a for loop and replace all the 1 with \n",
    "# 5 and delete all the 0.\n",
    "# Q-10 find the len of the list now , (for Q-9)"
   ]
  },
  {
   "cell_type": "code",
   "execution_count": 37,
   "metadata": {},
   "outputs": [
    {
     "name": "stdout",
     "output_type": "stream",
     "text": [
      "[1, 1, 1, 1]\n",
      "4\n"
     ]
    }
   ],
   "source": [
    "my_list = [0,1,1,1,0,0,0,1]\n",
    "for i in my_list:\n",
    "    my_list.remove(0)\n",
    "\n",
    "\n",
    "print(my_list)\n",
    "\n",
    "print(len(my_list))"
   ]
  },
  {
   "cell_type": "code",
   "execution_count": 65,
   "metadata": {},
   "outputs": [
    {
     "name": "stdout",
     "output_type": "stream",
     "text": [
      "[1, 2, 3, 4, 6, 'rs', 'jealous', ['a', 'e', 'i', 'o']]\n",
      "1\n",
      "2\n",
      "3\n",
      "4\n",
      "6\n",
      "rs\n",
      "jealous\n",
      "['a', 'e', 'i', 'o']\n"
     ]
    }
   ],
   "source": [
    "my_list = [1,2,3,4,6,'rs','j''e''a''l''o''u''s',['a','e','i','o']]\n",
    "print(my_list)\n",
    "for i in my_list:\n",
    "    print(i)\n"
   ]
  },
  {
   "cell_type": "code",
   "execution_count": 21,
   "metadata": {},
   "outputs": [
    {
     "name": "stdout",
     "output_type": "stream",
     "text": [
      "[[1, 2, 3, 4, 6], 'rs', ['j', 'q', 'a', 'l', 'o', 'u', 's'], ['a', 'e', 'i', 'o']]\n"
     ]
    }
   ],
   "source": [
    "my_list = [[1,2,3,4,6],'rs',['j','e','a','l','o','u','s'],['a','e','i','o']]\n",
    "\n",
    "my_list[2][1]=\"q\"\n",
    "print(my_list)"
   ]
  },
  {
   "cell_type": "code",
   "execution_count": 70,
   "metadata": {},
   "outputs": [
    {
     "name": "stdout",
     "output_type": "stream",
     "text": [
      "24\n"
     ]
    }
   ],
   "source": [
    "total = 1\n",
    "sum_list = [1,2,3,4]\n",
    "for x in sum_list:\n",
    "    total *=x\n",
    "\n",
    "print(total)"
   ]
  },
  {
   "cell_type": "code",
   "execution_count": 64,
   "metadata": {},
   "outputs": [
    {
     "name": "stdout",
     "output_type": "stream",
     "text": [
      "6\n"
     ]
    }
   ],
   "source": [
    "total = 0\n",
    "sum_list = [1,2,3]\n",
    "for x in sum_list:\n",
    "    total += x\n",
    "    \n",
    "print(total)\n"
   ]
  },
  {
   "cell_type": "code",
   "execution_count": null,
   "metadata": {},
   "outputs": [],
   "source": []
  },
  {
   "cell_type": "code",
   "execution_count": 9,
   "metadata": {},
   "outputs": [
    {
     "name": "stdout",
     "output_type": "stream",
     "text": [
      "76\n",
      "21\n"
     ]
    }
   ],
   "source": [
    "my_list = [45,76,56,33,21]\n",
    "\n",
    "print(max(my_list))\n",
    "print(min(my_list))"
   ]
  },
  {
   "cell_type": "code",
   "execution_count": null,
   "metadata": {},
   "outputs": [],
   "source": []
  }
 ],
 "metadata": {
  "kernelspec": {
   "display_name": "Python 3",
   "language": "python",
   "name": "python3"
  },
  "language_info": {
   "codemirror_mode": {
    "name": "ipython",
    "version": 3
   },
   "file_extension": ".py",
   "mimetype": "text/x-python",
   "name": "python",
   "nbconvert_exporter": "python",
   "pygments_lexer": "ipython3",
   "version": "3.8.3"
  }
 },
 "nbformat": 4,
 "nbformat_minor": 4
}
